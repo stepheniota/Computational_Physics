{
 "cells": [
  {
   "cell_type": "markdown",
   "metadata": {},
   "source": [
    "# Homework 6a: PDE\n",
    "Physics 177, Spring 2018  \n",
    "20 May 2018\n",
    "\n",
    "Stephen Iota"
   ]
  },
  {
   "cell_type": "markdown",
   "metadata": {},
   "source": [
    "## Problem 1: Poisson Equation\n",
    "\n",
    "The Poisson equation in two dimension is:\n",
    "\n",
    "$$\\displaystyle \\partial_x^2 \\phi(x,y) + \\partial_y^2 \\phi(x,y) = -\\rho(x,y)$$\n",
    "\n",
    "$$ \\$\\vec \\nabla^2$\n",
    "\n",
    "We have picked units where $\\varepsilon_0 = 1$ and $\\rho$ is the charge density. Numerically solve the Poisson equation following two dimensional system (Newman Example 9.2):\n",
    "\n",
    "<img src=\"HW6a_NewmanFig9.4.png\">\n",
    "\n",
    "This is a 2D with size 100 cm by 100 cm. There are smaller 20 cm by 20 cm squares. The one on the upper right has charge density $\\rho = +1/\\text{cm}^2$ and the one on the lower left has charge density $\\rho = -1/\\text{cm}^2$. The boundaries of the large square are set to zero potential. \n",
    "\n",
    "Solve for the potential, $\\phi$, everywhere in the large square. Plot the potential. I leave it to you to pick a discretization (step size) that is sufficiently fast while also demonstrating the correct behavior. \n",
    "\n",
    "Hint: before you do anything, you should guess what the expected result should be."
   ]
  },
  {
   "cell_type": "code",
   "execution_count": 4,
   "metadata": {},
   "outputs": [],
   "source": [
    "import numpy as np\n",
    "\n",
    "# Constants\n",
    "grid = 20   # grid points per side of small square\n",
    "M = 5*grid  # grid squares per side (units of grid)\n",
    "\n",
    "V = 1.0        # boundary potential from the charge\n",
    "target = 1e-3  # target accuracy\n",
    "\n",
    "\n",
    "def InSouthWestBox(i,j):\n",
    "    \"\"\"true if point is in the Southwest box\"\"\"\n",
    "    # SOUTHWEST CHARGE\n",
    "    if i in range(20,40) \\\n",
    "    and j in range(20,40):\n",
    "        return True\n",
    "    else:\n",
    "        return False\n",
    "\n",
    "def InNorthEastBox(i,j):\n",
    "    \"\"\"true if point is in the Northwest box\"\"\"\n",
    "    # NORTHEAST CHARGE\n",
    "    if i in range(60,80) \\\n",
    "    and j in range(60,80):\n",
    "        return True\n",
    "    else:\n",
    "        return False\n",
    "    \n",
    "def AmIFixed(i,j):\n",
    "    \"\"\"true if this block shouldn't be updated\"\"\"\n",
    "    # BIG BOUNDARY\n",
    "    if i==0 \\\n",
    "    or i==M \\\n",
    "    or j==0 \\\n",
    "    or j==M \\\n",
    "    or InSouthWestBox(i,j) \\\n",
    "    or InNorthEastBox(i,j):\n",
    "        return True\n",
    "    else:\n",
    "        return False\n",
    "    \n",
    "\n",
    "# initial array with zeros\n",
    "phi = np.zeros([M+1,M+1])\n",
    "\n",
    "# Fill initial array with charged sub-boxes\n",
    "for i in range(M):\n",
    "    for j in range(M):\n",
    "        if InSouthWestBox(i,j):\n",
    "            phi[i,j] = 1 # charge/cm**2\n",
    "        elif InNorthEastBox(i,j):\n",
    "            phi[i,j] = -1 # charge/cm**2\n",
    "\n",
    "# initialize \"work in progess\" array\n",
    "phiprime = np.zeros([M+1, M+1],float) # container for new values\n",
    "            \n",
    "\n",
    "# Main Loop\n",
    "delta = 1.\n",
    "while delta > target:\n",
    "    # calculate new values of the potential\n",
    "\n",
    "    for i in range(M+1):\n",
    "        for j in range(M+1):\n",
    "\n",
    "            # if bouxndary\n",
    "            if AmIFixed(i,j):\n",
    "                phiprime[i,j] = phi[i,j]\n",
    "            else:\n",
    "                phiprime[i,j] = (phi[i-1,j] \\\n",
    "                                 + phi[i+1,j] \\\n",
    "                                 + phi[i,j+1] \\\n",
    "                                 + phi[i,j-1] \\\n",
    "                                 + phi[i-1,j-1] \\\n",
    "                                 + phi[i-1,j+1] \\\n",
    "                                 + phi[i+1,j-1] \\\n",
    "                                 + phi[i+1,j+1] \\\n",
    "                                 + phi[i,j]) / 9.\n",
    "    \n",
    "    # NOTE: indentation is very important!\n",
    "    # convergence check\n",
    "    delta = np.max(np.abs(phi-phiprime))\n",
    "            \n",
    "    # swap arrays\n",
    "    phi, phiprime = phiprime, phi"
   ]
  },
  {
   "cell_type": "code",
   "execution_count": 5,
   "metadata": {},
   "outputs": [
    {
     "data": {
      "image/png": "[encoded data removed]",
      "text/plain": [
       "<Figure size 432x288 with 2 Axes>"
      ]
     },
     "metadata": {},
     "output_type": "display_data"
    }
   ],
   "source": [
    "%matplotlib inline\n",
    "import matplotlib.pyplot as plt\n",
    "\n",
    "# You should stop to understand what's going on here.\n",
    "\n",
    "xx, yy = np.meshgrid(np.arange(M+1),np.arange(M+1))\n",
    "plt.pcolormesh(xx,yy,phi)\n",
    "plt.colorbar()\n",
    "plt.show()"
   ]
  },
  {
   "cell_type": "markdown",
   "metadata": {},
   "source": [
    "## Problem 2: 4D spheres\n",
    "\n",
    "Using Monte Carlo, estimate the volume enclosed by a 4D sphere. You can get a reasonable value by sampling 100,000 points."
   ]
  },
  {
   "cell_type": "code",
   "execution_count": 3,
   "metadata": {},
   "outputs": [],
   "source": [
    "from math import sin\n",
    "from random import uniform\n",
    "\n",
    "radius = 1 # VARIABLE\n",
    "\n",
    "def f(x,y,z,w):\n",
    "    ''' 4-D Sphere, radius = 1, as a function of (x,y,z,w)'''\n",
    "    if x**2 + y**2 + z**2 + w**2 <= 1:\n",
    "        return 1\n",
    "    else:\n",
    "        return 0\n",
    "\n",
    "N = 100000\n",
    "my_sum = 0\n",
    "vee = (2*radius)**4\n",
    "for i in range(N):\n",
    "    x = uniform(-radius,radius)\n",
    "    y = uniform(-radius,radius)\n",
    "    z = uniform(-radius,radius)\n",
    "    w = uniform(-radius,radius)\n",
    "    a = uniform(-radius,radius)\n",
    "    if a < f(x,y,z,w):\n",
    "        my_sum += f(x,y,z,w)\n",
    "    \n",
    "volume = vee*my_sum/N"
   ]
  },
  {
   "cell_type": "code",
   "execution_count": 4,
   "metadata": {},
   "outputs": [
    {
     "name": "stdout",
     "output_type": "stream",
     "text": [
      "Volume of 4-D sphere with Monte Carlo Method:  4.90912\n"
     ]
    }
   ],
   "source": [
    "print(\"Volume of 4-D sphere with Monte Carlo Method: \", volume)"
   ]
  },
  {
   "cell_type": "markdown",
   "metadata": {},
   "source": [
    "## X. Extra Credit, compare to the correct value\n",
    "\n",
    "Look up the volume of a 4-dimensional sphere (it's written with respect to the Euler $\\Gamma$ function). Using `scipy.special.gamma`, confirm that the value you found in **Problem 2** is reasonable. "
   ]
  },
  {
   "cell_type": "code",
   "execution_count": 5,
   "metadata": {},
   "outputs": [],
   "source": [
    "from scipy.special import gamma\n",
    "from math import pi\n",
    "\n",
    "def vol_ndim_sphere(n):\n",
    "    \"\"\"return the volume of an n dimentional \n",
    "       sphere using the gamma function\"\"\"\n",
    "    \n",
    "    return (pow(pi,n/2))/gamma((n/2)+1)    "
   ]
  },
  {
   "cell_type": "code",
   "execution_count": 6,
   "metadata": {},
   "outputs": [
    {
     "name": "stdout",
     "output_type": "stream",
     "text": [
      "Volume of a 4-d sphere: 4.934802200544679\n"
     ]
    }
   ],
   "source": [
    "print(\"Volume of a 4-d sphere:\", vol_ndim_sphere(4))"
   ]
  }
 ],
 "metadata": {
  "kernelspec": {
   "display_name": "Python 3",
   "language": "python",
   "name": "python3"
  },
  "language_info": {
   "codemirror_mode": {
    "name": "ipython",
    "version": 3
   },
   "file_extension": ".py",
   "mimetype": "text/x-python",
   "name": "python",
   "nbconvert_exporter": "python",
   "pygments_lexer": "ipython3",
   "version": "3.6.4"
  }
 },
 "nbformat": 4,
 "nbformat_minor": 2
}
