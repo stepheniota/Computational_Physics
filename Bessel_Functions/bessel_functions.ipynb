{
 "cells": [
  {
   "cell_type": "markdown",
   "metadata": {},
   "source": [
    "# Bessel Functions\n",
    "24 April 2018\n",
    "\n",
    "Stephen Iota"
   ]
  },
  {
   "cell_type": "markdown",
   "metadata": {},
   "source": [
    "## 0. Goal\n",
    "\n",
    "Code a integrator function using Simpson's Rule, and produce plots of Bessel Functions.\n",
    "\n",
    "Bessel functions show up all over the place in physics. The Bessel functions $J_m(x)$ are defined by\n",
    "\n",
    "$\\displaystyle J_m(x) = \\frac{1}{\\pi}\\int_0^\\pi \\cos(m\\theta - x \\sin \\theta) \\, d\\theta\\ ,$ \n",
    "\n",
    "where $m$ is a nonnegative integer and $x\\geq 0$. "
   ]
  },
  {
   "cell_type": "markdown",
   "metadata": {},
   "source": [
    "## 1. Simpson's Rule Integrator \n",
    "\n",
    "The integrator should take the following arguments:\n",
    "* A function, $f$\n",
    "* Two real numbers giving the limits of integration, $a$ and $b$\n",
    "* The number of steps $N$ to sample"
   ]
  },
  {
   "cell_type": "markdown",
   "metadata": {},
   "source": [
    "### 1.a) Write up `integrate_simpson`"
   ]
  },
  {
   "cell_type": "code",
   "execution_count": 5,
   "metadata": {},
   "outputs": [],
   "source": [
    "def integrate_simpson(function_name, lower_limit, upper_limit, Nsteps):\n",
    "    \"\"\"\n",
    "    Returns the integral using Simpson's rule\n",
    "    \"\"\"\n",
    "    answer = 0.\n",
    "    dx = (upper_limit - lower_limit) / Nsteps\n",
    "    \n",
    "    ### for boundary terms\n",
    "    answer += function_name(lower_limit) + function_name(upper_limit)\n",
    "    \n",
    "    ### for even terms\n",
    "    current_x = lower_limit + 2*dx\n",
    "    while current_x < upper_limit:\n",
    "        answer += 2*function_name(current_x)\n",
    "        current_x += 2*dx\n",
    "        \n",
    "    ### for odd terms\n",
    "    current_x = lower_limit + dx\n",
    "    while current_x < upper_limit:\n",
    "        answer += 4*function_name(current_x)\n",
    "        current_x += 2*dx\n",
    "        \n",
    "    ### to finalize answer    \n",
    "    answer = (1/3)*dx*answer\n",
    "    \n",
    "    return answer"
   ]
  },
  {
   "cell_type": "markdown",
   "metadata": {},
   "source": [
    "### 1.b Testing function"
   ]
  },
  {
   "cell_type": "code",
   "execution_count": 6,
   "metadata": {},
   "outputs": [
    {
     "data": {
      "text/plain": [
       "1.0"
      ]
     },
     "execution_count": 6,
     "metadata": {},
     "output_type": "execute_result"
    }
   ],
   "source": [
    "def testfun(x):\n",
    "    return 3*x**2\n",
    "\n",
    "integrate_simpson(testfun, 0, 1, 10)"
   ]
  },
  {
   "cell_type": "markdown",
   "metadata": {},
   "source": [
    "**What answer do we expect** from `integrate_simpson(testfun, 0, 1, 100)`?\n",
    "\n",
    "A number very close to **1**"
   ]
  },
  {
   "cell_type": "code",
   "execution_count": 7,
   "metadata": {},
   "outputs": [
    {
     "name": "stdout",
     "output_type": "stream",
     "text": [
      "answer should be close to 1: 1.0000000000000007\n"
     ]
    }
   ],
   "source": [
    "print(\"answer should be close to 1: %s\" % integrate_simpson(testfun, 0 , 1, 100))"
   ]
  },
  {
   "cell_type": "markdown",
   "metadata": {},
   "source": [
    "## 2. A Bessel Function\n",
    "[Adapted from Exercise 5.4 from *Computational Physics* by Newman]\n",
    "\n",
    "### Discussion\n",
    "\n",
    "Bessel functions show up all over the place in physics. The Bessel functions $J_m(x)$ are defined by\n",
    "\n",
    "$\\displaystyle J_m(x) = \\frac{1}{\\pi}\\int_0^\\pi \\cos(m\\theta - x \\sin \\theta) \\, d\\theta\\ ,$ \n",
    "\n",
    "where $m$ is a nonnegative integer and $x\\geq 0$. "
   ]
  },
  {
   "cell_type": "markdown",
   "metadata": {},
   "source": [
    "### 2.a) Code the Bessel Function"
   ]
  },
  {
   "cell_type": "code",
   "execution_count": 10,
   "metadata": {},
   "outputs": [],
   "source": [
    "from math import pi as pi\n",
    "from math import sin as sin\n",
    "from math import cos as cos\n",
    "\n",
    "def J(m,x):\n",
    "    \"\"\"\n",
    "    mth Bessel function of the first kind evaluated at real number x,  \n",
    "    calculated using an integral representation with Simpson's rule and 1000 steps\n",
    "    \"\"\"\n",
    "    def integrand(theta):\n",
    "        return (1/pi)*cos(m*theta - x*sin(theta))\n",
    "    \n",
    "    return integrate_simpson(integrand,0,pi,1000)"
   ]
  },
  {
   "cell_type": "code",
   "execution_count": 11,
   "metadata": {},
   "outputs": [
    {
     "name": "stdout",
     "output_type": "stream",
     "text": [
      "0.04656511627775981\n"
     ]
    }
   ],
   "source": [
    "print(J(2,5))"
   ]
  },
  {
   "cell_type": "markdown",
   "metadata": {},
   "source": [
    "### 2.b) Test your Bessel Function\n",
    "\n",
    "Test Bessel function in the following cell: "
   ]
  },
  {
   "cell_type": "code",
   "execution_count": 12,
   "metadata": {},
   "outputs": [
    {
     "name": "stdout",
     "output_type": "stream",
     "text": [
      "0.44005058574492467\n"
     ]
    }
   ],
   "source": [
    "print(J(1,1))"
   ]
  },
  {
   "cell_type": "markdown",
   "metadata": {},
   "source": [
    "The correct answer is $J_1(1)=0.440051$ per Mathematica."
   ]
  },
  {
   "cell_type": "markdown",
   "metadata": {},
   "source": [
    "### 2.c) Plot the Bessel Function\n",
    "\n",
    "In this problem we'll use Numpy to **vectorize** our Bessel function so that we can feed it a Numpy array of $x$-values and output a Numpy array of $y$-values. You can read more about vectorizing [here](https://docs.scipy.org/doc/numpy-1.10.0/reference/generated/numpy.vectorize.html).\n",
    "\n",
    "For our purposes, it may be useful to just demonstrate an example. Run the following cell."
   ]
  },
  {
   "cell_type": "code",
   "execution_count": 13,
   "metadata": {
    "scrolled": true
   },
   "outputs": [
    {
     "name": "stdout",
     "output_type": "stream",
     "text": [
      "x is an array:\n",
      "[1. 2. 3. 4.]\n",
      "\n",
      "check these out:\n",
      "[  1.  16.  81. 256.]\n",
      "[  1.  16.  81. 256.]\n"
     ]
    }
   ],
   "source": [
    "# EXAMPLE OF HOW TO USE VECTORIZE\n",
    "import numpy as np\n",
    "\n",
    "def my_function(x,m):\n",
    "    \"\"\"raises x to the power m\"\"\"\n",
    "    return x**m\n",
    "\n",
    "# Now I'd like to apply this to a Numpy array.\n",
    "# But this function doesn't know how to handle arrays.\n",
    "# Let's vectorize it.\n",
    "\n",
    "my_vectorized_function = np.vectorize(my_function)\n",
    "\n",
    "# Here's how we can use this:\n",
    "x = np.linspace(1,4,4)\n",
    "\n",
    "print(\"x is an array:\")\n",
    "print(x)\n",
    "print(\"\")\n",
    "\n",
    "print(\"check these out:\")             ## why do these both print out the same thing?\n",
    "print(my_vectorized_function(x,4))    \n",
    "print(my_function(x,4))\n",
    "#print(my_function(x,1))   ##in the original code, the non vectorized functions\n",
    "#print(my_function(x,2))   ##were printied out\n",
    "#print(my_function(x,3))   ##this did not affect the output though\n",
    "#print(my_function(x,4))"
   ]
  },
  {
   "cell_type": "markdown",
   "metadata": {},
   "source": [
    "#### 2.c) note\n",
    "Seems that python does not require a vectorized function in order to input an array  - Stephen"
   ]
  },
  {
   "cell_type": "markdown",
   "metadata": {},
   "source": [
    "Observe that `np.vectorize` takes a function and outputs another function that can take arrays. There's something even more powerful here: `my_function` takes in *two* arguments. `np.vectorize(my_function)` accepts arrays in both. This means that we can use the following construction. Suppose `x` is a list of sample points for a function $f(a,x)$. Then to get a list of `y` values for a given value of $a$:\n",
    "\n",
    "```python\n",
    "\n",
    "# Where f is a function that takes two variables, f(index, x)\n",
    "f_vec = np.vectorize(f)\n",
    "\n",
    "x = np.linspace(min_value, max_value, length_of_array)\n",
    "a = 1\n",
    "\n",
    "y = f_vec(a, x)\n",
    "```\n",
    "\n",
    "Now `x` and `y` can be used to make a plot.\n",
    "\n",
    "Now, lets produce plots of $J_0(x)$, $J_1(x)$ and $J_2(x)$ in matplotlib."
   ]
  },
  {
   "cell_type": "code",
   "execution_count": 14,
   "metadata": {
    "scrolled": true
   },
   "outputs": [
    {
     "data": {
      "image/png": "[encoded data removed]",
      "text/plain": [
       "<Figure size 432x288 with 1 Axes>"
      ]
     },
     "metadata": {},
     "output_type": "display_data"
    }
   ],
   "source": [
    "###########\n",
    "def J(m,x):\n",
    "    \"\"\"\n",
    "    mth Bessel function of the first kind evaluated at real number x,  \n",
    "    calculated using an integral representation with Simpson's rule and 1000 steps\n",
    "    \"\"\"\n",
    "    def integrand(theta):\n",
    "        return (1/pi)*cos(m*theta - x*sin(theta))\n",
    "    \n",
    "    return integrate_simpson(integrand,0,pi,1000)\n",
    "############## c&p for readability\n",
    "\n",
    "%matplotlib inline\n",
    "import matplotlib.pyplot as plt\n",
    "import numpy as np\n",
    "import seaborn as sns\n",
    "\n",
    "# x sample points\n",
    "x = np.linspace(0,10,100)\n",
    "\n",
    "# vectorize the J function\n",
    "J_numpy = np.vectorize(J)\n",
    "\n",
    "y0, y1, y2 = J_numpy(0,x), J_numpy(1,x), J_numpy(2,x)   #y-values of J0(x), J1(x), J2(x)\n",
    "\n",
    "plt.plot(x,y0,label='$J_0(x)$')\n",
    "plt.plot(x,y1,label='$J_1(x)$')\n",
    "plt.plot(x,y2,label='$J_2(x)$')\n",
    "\n",
    "sns.set_style(\"darkgrid\")\n",
    "sns.set_palette(\"coolwarm\")\n",
    "plt.title(\"Some Bessel Functions\")\n",
    "plt.legend(bbox_to_anchor=(1.05, 1), loc=2, borderaxespad=0.)\n",
    "plt.show()"
   ]
  },
  {
   "cell_type": "code",
   "execution_count": 15,
   "metadata": {},
   "outputs": [
    {
     "name": "stdout",
     "output_type": "stream",
     "text": [
      "0.4688906050435493\n"
     ]
    }
   ],
   "source": [
    "print (J(1.1111343,1.432543))"
   ]
  },
  {
   "cell_type": "code",
   "execution_count": null,
   "metadata": {},
   "outputs": [],
   "source": []
  }
 ],
 "metadata": {
  "kernelspec": {
   "display_name": "Python 3",
   "language": "python",
   "name": "python3"
  },
  "language_info": {
   "codemirror_mode": {
    "name": "ipython",
    "version": 3
   },
   "file_extension": ".py",
   "mimetype": "text/x-python",
   "name": "python",
   "nbconvert_exporter": "python",
   "pygments_lexer": "ipython3",
   "version": "3.6.4"
  }
 },
 "nbformat": 4,
 "nbformat_minor": 2
}
