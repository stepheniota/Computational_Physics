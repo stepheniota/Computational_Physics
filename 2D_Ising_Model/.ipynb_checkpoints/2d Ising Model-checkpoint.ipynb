{
 "cells": [
  {
   "cell_type": "markdown",
   "metadata": {},
   "source": [
    "# 2D Ising Model\n",
    "Physics 177, Spring 2018  \n",
    "15 June 2018\n",
    "\n",
    "Stephen Iota"
   ]
  },
  {
   "cell_type": "markdown",
   "metadata": {},
   "source": [
    "## Discussion\n",
    "\n",
    "This is the keystone project of our course. The Ising model for a magnet is characterized by the energy function:\n",
    "\n",
    "$$E = - J\\sum_{i,j}^\\text{n.n.}s_i s_j$$\n",
    "\n",
    "where 'n.n.' means \"nearest neighbors\" (the four adjacent cells in 2D).  Here $s_{i} = \\pm 1$ is the **spin in the $z$-direction** of the electron at site `i`. We've chosen a convenient normalization. In fact, we'll choose convenient units where $J = \\mu = k_B = 1$. "
   ]
  },
  {
   "cell_type": "markdown",
   "metadata": {},
   "source": [
    "## Problem 1: Ising Model\n",
    "\n",
    "Simulate the 2D Ising model using Markov Chain Monte Carlo and the following parameters:\n",
    "\n",
    "* `nSide = 20`, the number of nodes per side\n",
    "* `nTemp = 100`, the number of temperature samples\n",
    "* `Tmin = 1`, `Tmax = 4`, the mininum and maximum temperatures to scan\n",
    "* `nStep = 10000`, the number of Monte Carlo steps to sample the microstates\n",
    "\n",
    "**You should structure your program as follows:**  \n",
    "* Define a variable `state` that is a `nSide` by `nSide` numpy array. Here's a good way to initialize it:\n",
    "\n",
    "```python\n",
    "state = 2*np.random.randint(2, size=(nSide,nSide))-1\n",
    "```\n",
    "\n",
    "* Define a function `mcmc(state, ii, jj, T)` that takes in a state, two indices (between `0` and `nSide-1`), and a temperature and outputs the state after one Markov Chain step.  \n",
    "  \n",
    "  \n",
    "* The Markov Chain step should be as follows: look at the spin at position (`ii`, `jj`). Propose a step: flip the spin: `spin *= -1`. If that step is energetically favorable, do it. If not, roll the dice relative to $P = e^{-\\Delta E/T}$. Note that `deltaE = 2*spin*Heff`, where the effective magnetic field is simply the sum of nearest neighbor spins.  \n",
    "  \n",
    "  \n",
    "* What about boundary states? To simplify our lives, impose periodic boundary conditions. Thus the \"neighbor to the right\" of `state[ii,jj]` is `state[(ii+1)%nSide, jj]`.  \n",
    "  \n",
    "  \n",
    "* Define a function `magnetization(state)` that takes in a state and outputs the sum of spins over all sites. The `np.sum` function may be useful.  \n",
    "  \n",
    "  \n",
    "* Define a function `plotState(state)` that plots the spins. Here's a nice definition that you can use:\n",
    "```python\n",
    "def plotState(state):\n",
    "    N = np.shape(state)[0]\n",
    "    xs, ys = np.meshgrid(range(N), range(N))\n",
    "    plt.axis('square')\n",
    "    plt.axis((0,N-1,0,N-1))\n",
    "    plt.pcolormesh(xs, ys, state, cmap=plt.get_cmap('binary'))\n",
    "    plt.xticks([])\n",
    "    plt.yticks([])\n",
    "    plt.show\n",
    "```\n",
    "  \n",
    "  \n",
    "* To run the program: equilibrate the system at `Tmin`. This means running the Markov Chain step over and over again (*without* taking data) to make sure that the system settles to a low energy state. In other words, when you start sampling, you want to sample a \"typical\" microstate at `Tmin`, not an \"unusually energetic\" state. \n",
    "  \n",
    "  \n",
    "* Now scan over the `nTemp` temperature steps between `Tmin` and `Tmax`. For each temperature, run the Markov Chain to generate `nStep` microstate samples at that temperature. For each microstate, record the magnetization. Take the *average* magnetization at that temperature and record it in an array. (You'll want to also divide by `nStep**2` so that you get the average magnetization *per site*.) I called this array `mags`, you can call it something else.\n",
    "  \n",
    "  \n",
    "* You can use the `timeit` package to time how long it takes to run the cell. With the default parameters above, it should take about a minute. You should, of course, be testing with much smaller numbers while you're writing your code. \n",
    "  \n",
    "  \n",
    "* Plot `mags` (the magnetization per site) as a function of temperature. You should observe a curve (perhaps a little sloppy looking) that looks like the one we sketched in <a href=\"https://github.com/Physics177-2018/Lecture_15\">Lecture 15</a>. If your plot does not look like that, then play with the parameters. Did you equilibrate enough? (I found that I had to equilibrate for `3*nStep` = 30,000 steps to go from a random lattice to a lattice thermalized at `Tmin = 1`. \n",
    "  \n",
    "  \n",
    "* Use `plotState` to plot the system at `tMin` and `tMax`. Do these match what you expect? \n",
    "\n",
    "  \n",
    "  \n",
    "Here's what the magnetization should look like:\n",
    "<img src=\"HW8b_sample2.png\">"
   ]
  },
  {
   "cell_type": "code",
   "execution_count": 1,
   "metadata": {},
   "outputs": [],
   "source": [
    "# imports\n",
    "%matplotlib inline\n",
    "import numpy as np\n",
    "import matplotlib.pyplot as plt\n",
    "from random import random, randrange\n",
    "from math import exp\n",
    "import timeit"
   ]
  },
  {
   "cell_type": "code",
   "execution_count": 2,
   "metadata": {},
   "outputs": [],
   "source": [
    "# parameters\n",
    "nSide = 20       # num of nodes per side\n",
    "nTemp = 100      # num temperature samples\n",
    "Tmin, Tmax = 1,4 # min, max temp to scan\n",
    "nStep = 10000 #10000    # num of Monte Carlo steps to sample the microstates"
   ]
  },
  {
   "cell_type": "code",
   "execution_count": 3,
   "metadata": {},
   "outputs": [],
   "source": [
    "# definitions\n",
    "\n",
    "def initialstate(nSide):\n",
    "    '''generates a random spin configuration for initial condition'''\n",
    "    state = 2*np.random.randint(2, size=(nSide,nSide))-1\n",
    "    return state\n",
    "\n",
    "\n",
    "def mcmc(state,ii,jj,T):\n",
    "    '''takes in a state, two indices (between 0 and nSide-1), \n",
    "    and a temperature and outputs the state after one Markov Chain step'''\n",
    "    spin = state[ii,jj] # initial spin state\n",
    "    Heff = (state[(ii+1)%nSide,jj] \\\n",
    "                + state[(ii-1)%nSide,jj] \\\n",
    "                + state[ii,(jj+1)%nSide] \\\n",
    "                + state[ii,(jj-1)%nSide]) # initial effective magnetic field\n",
    "    deltaE = 2*spin*Heff\n",
    "    prob = exp(-deltaE/T)\n",
    "    if deltaE < 0:\n",
    "        spin *= -1\n",
    "    elif random() < prob:\n",
    "        spin *= -1\n",
    "    state[ii,jj] = spin\n",
    "    return state[ii,jj]\n",
    "\n",
    "\n",
    "def magnetization(state):\n",
    "    '''Takes in state and returns total magnetization '''\n",
    "    return np.sum(state)\n",
    "\n",
    "\n",
    "def plotState(state):\n",
    "    '''Input state and outputs plot of spins'''\n",
    "    N = np.shape(state)[0]\n",
    "    xs, ys = np.meshgrid(range(N), range(N))\n",
    "    plt.axis('square')\n",
    "    plt.axis((0,N-1,0,N-1))\n",
    "    plt.pcolormesh(xs, ys, state, cmap=plt.get_cmap('binary'))\n",
    "    plt.xticks([])\n",
    "    plt.yticks([])\n",
    "    plt.show"
   ]
  },
  {
   "cell_type": "code",
   "execution_count": 4,
   "metadata": {},
   "outputs": [
    {
     "name": "stdout",
     "output_type": "stream",
     "text": [
      "system at Tmin\n"
     ]
    },
    {
     "data": {
      "image/png": "[encoded data removed]",
      "text/plain": [
       "<Figure size 432x288 with 1 Axes>"
      ]
     },
     "metadata": {},
     "output_type": "display_data"
    }
   ],
   "source": [
    "state = initialstate(nSide)       # initialize system\n",
    "\n",
    "for equil in range(3*nStep):      # equilibration\n",
    "    ii = randrange(0,nSide)\n",
    "    jj = randrange(0,nSide)\n",
    "    mcmc(state,ii,jj,Tmin)\n",
    "print(\"system at Tmin\")\n",
    "plotState(state)"
   ]
  },
  {
   "cell_type": "code",
   "execution_count": 5,
   "metadata": {},
   "outputs": [
    {
     "name": "stdout",
     "output_type": "stream",
     "text": [
      "time\n",
      "28.95406188099878\n",
      "system at Tmax\n"
     ]
    },
    {
     "data": {
      "image/png": "[encoded data removed]",
      "text/plain": [
       "<Figure size 432x288 with 1 Axes>"
      ]
     },
     "metadata": {},
     "output_type": "display_data"
    }
   ],
   "source": [
    "start_time = timeit.default_timer()\n",
    "\n",
    "mags = np.zeros(nTemp)\n",
    "\n",
    "i = 0\n",
    "for T in np.linspace(Tmin,Tmax,nTemp):\n",
    "    ave_mag_T = 0\n",
    "    initialstate(nSide)       # initialize system\n",
    "    \n",
    "    for equil in range(3*nStep):      # equilibration\n",
    "        ii = randrange(0,nSide)\n",
    "        jj = randrange(0,nSide)\n",
    "        mcmc(state,ii,jj,Tmin)\n",
    "\n",
    "    for microstate in range(nStep):   #mcmc moves\n",
    "        ii = randrange(0,nSide)\n",
    "        jj = randrange(0,nSide)\n",
    "        \n",
    "        mcmc(state,ii,jj,T)\n",
    "        ave_mag_T += magnetization(state)\n",
    "        \n",
    "    mags[i] = ave_mag_T/(nStep*nSide**2)\n",
    "    i += 1\n",
    "\n",
    "mags = np.abs(mags)\n",
    "elapsed = timeit.default_timer() - start_time\n",
    "\n",
    "print('time')\n",
    "print(elapsed)\n",
    "print(\"system at Tmax\")\n",
    "plotState(state)"
   ]
  },
  {
   "cell_type": "code",
   "execution_count": 6,
   "metadata": {},
   "outputs": [
    {
     "data": {
      "text/plain": [
       "[<matplotlib.lines.Line2D at 0x10c1d45c0>]"
      ]
     },
     "execution_count": 6,
     "metadata": {},
     "output_type": "execute_result"
    },
    {
     "data": {
      "image/png": "[encoded data removed]",
      "text/plain": [
       "<Figure size 432x288 with 1 Axes>"
      ]
     },
     "metadata": {},
     "output_type": "display_data"
    }
   ],
   "source": [
    "# mags v T\n",
    "%matplotlib inline\n",
    "plt.plot(np.linspace(Tmin,Tmax,nTemp),mags,'o')"
   ]
  },
  {
   "cell_type": "markdown",
   "metadata": {},
   "source": [
    "## Problem 2: animate!\n",
    "\n",
    "Copy your solution to Problem 1 below. In this problem, we'll output an animated PNG of the lattice.  \n",
    "  \n",
    "  \n",
    "Define a function `postState(state)` that is based on `plotState`, but instead saves the figure to a subfolder, `HW8b/` with some frame number. \n",
    "\n",
    "```python\n",
    "    plt.savefig(\"HW8b/frame\" + str(frame_num))\n",
    "    plt.clf() # clear the plot after\n",
    "```\n",
    "  \n",
    "Now modify the scan over temperatures so that at each temperature, (1) run `postState(state)`, (2) increment `frame_num`.  Then follow Homework 8a to use the `APNG` package to stitch together the individual frames into a single animated PNG. Include that image below."
   ]
  },
  {
   "cell_type": "code",
   "execution_count": 7,
   "metadata": {},
   "outputs": [],
   "source": [
    "def poststate(state):\n",
    "    N = np.shape(state)[0]\n",
    "    xs, ys = np.meshgrid(range(N), range(N))\n",
    "    plt.axis('square')\n",
    "    plt.pcolormesh(xs, ys, state, cmap=plt.get_cmap('binary'))\n",
    "    plt.savefig(\"figures/frame\" + str(frame_num))\n",
    "    plt.clf()"
   ]
  },
  {
   "cell_type": "code",
   "execution_count": 8,
   "metadata": {},
   "outputs": [
    {
     "name": "stdout",
     "output_type": "stream",
     "text": [
      "33.5387432940006\n"
     ]
    },
    {
     "data": {
      "text/plain": [
       "<Figure size 432x288 with 0 Axes>"
      ]
     },
     "metadata": {},
     "output_type": "display_data"
    }
   ],
   "source": [
    "import timeit\n",
    "start_time = timeit.default_timer()\n",
    "\n",
    "mags = np.zeros(nTemp)\n",
    "\n",
    "\n",
    "frame_num = 0\n",
    "i = 0\n",
    "for T in np.linspace(Tmin,Tmax,nTemp):\n",
    "    ave_mag_T = 0\n",
    "    initialstate(nSide)       # initialize system\n",
    "    \n",
    "    for equil in range(3*nStep):      # equilibration\n",
    "        ii = randrange(0,nSide)\n",
    "        jj = randrange(0,nSide)\n",
    "        mcmc(state,ii,jj,Tmin)\n",
    "\n",
    "    for microstate in range(nStep):   #mcmc moves\n",
    "        ii = randrange(0,nSide)\n",
    "        jj = randrange(0,nSide)\n",
    "        \n",
    "        mcmc(state,ii,jj,T)\n",
    "        \n",
    "    poststate(state)\n",
    "    frame_num += 1\n",
    "\n",
    "\n",
    "elapsed = timeit.default_timer() - start_time\n",
    "print(elapsed)"
   ]
  },
  {
   "cell_type": "code",
   "execution_count": 9,
   "metadata": {},
   "outputs": [
    {
     "name": "stdout",
     "output_type": "stream",
     "text": [
      "100\n"
     ]
    }
   ],
   "source": [
    "print(frame_num)"
   ]
  },
  {
   "cell_type": "code",
   "execution_count": 10,
   "metadata": {},
   "outputs": [],
   "source": [
    "# Make sure you've installed apng\n",
    "# Run: `pip install apng` from the command line\n",
    "\n",
    "from apng import APNG\n",
    "\n",
    "filenames = []\n",
    "for i in range(frame_num):\n",
    "    filenames.append(\"Figures/frame\" + str(i) + \".png\")\n",
    "\n",
    "APNG.from_files(filenames, delay=100).save(\"HW8b.png\")"
   ]
  },
  {
   "cell_type": "markdown",
   "metadata": {},
   "source": [
    "**Animated PNG of Lattice over Time**\n",
    "<img src=\"HW8b.png\">"
   ]
  }
 ],
 "metadata": {
  "kernelspec": {
   "display_name": "Python 3",
   "language": "python",
   "name": "python3"
  },
  "language_info": {
   "codemirror_mode": {
    "name": "ipython",
    "version": 3
   },
   "file_extension": ".py",
   "mimetype": "text/x-python",
   "name": "python",
   "nbconvert_exporter": "python",
   "pygments_lexer": "ipython3",
   "version": "3.6.4"
  }
 },
 "nbformat": 4,
 "nbformat_minor": 2
}
